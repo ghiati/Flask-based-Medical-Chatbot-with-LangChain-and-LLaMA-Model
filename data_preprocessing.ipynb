{
 "cells": [
  {
   "cell_type": "code",
   "execution_count": 1,
   "metadata": {},
   "outputs": [],
   "source": [
    "from langchain.document_loaders import DirectoryLoader, PyPDFLoader\n",
    "def extract_pdf_data(directory):\n",
    "    loader = DirectoryLoader(\n",
    "        path=directory,\n",
    "        glob=\"*.pdf\",\n",
    "        loader_cls=PyPDFLoader\n",
    "    )\n",
    "    \n",
    "    documents = loader.load()\n",
    "\n",
    "    return documents"
   ]
  },
  {
   "cell_type": "markdown",
   "metadata": {},
   "source": [
    "## Function: `extract_pdf_data`\n",
    "\n",
    "This function extracts and loads PDF documents from a specified directory using the `langchain` library.\n",
    "\n",
    "### Parameters:\n",
    "- **`directory`** (str): The path to the directory containing PDF files.\n",
    "\n",
    "### Returns:\n",
    "- **`documents`** (list): A list of documents extracted from the PDFs.\n",
    "\n",
    "### Example:\n",
    "```python\n",
    "extracted_data = extract_pdf_data(\"data/\")\n"
   ]
  },
  {
   "cell_type": "code",
   "execution_count": 2,
   "metadata": {},
   "outputs": [],
   "source": [
    "data = extract_pdf_data(\"data/\")"
   ]
  },
  {
   "cell_type": "code",
   "execution_count": 3,
   "metadata": {},
   "outputs": [
    {
     "data": {
      "text/plain": [
       "[Document(metadata={'source': 'data/Medical_book_compressed-15-20-1.pdf', 'page': 0}, page_content='Abdominal aorta ultrasound seeAbdominal\\nultrasound\\nAbdominal aortic aneurysm seeAortic\\naneurysm\\nAbdominal hernia seeHernia\\nAbdominal thrust seeHeimlich maneuver\\nAbdominal ultrasound\\nDefinition\\nUltrasound technology allows doctors to “see”\\ninside a patient without resorting to surgery. A transmit-\\nter sends high frequency sound waves into the body,where they bounce off the different tissues and organs toproduce a distinctive pattern of echoes. A receiver“hears” the returning echo pattern and forwards it to acomputer, which translates the data into an image on atelevision screen. Because ultrasound can distinguishsubtle variations between soft, fluid-filled tissues, it isparticularly useful in providing diagnostic images of theabdomen. Ultrasound can also be used in treatment.\\nPurpose\\nThe potential medical applications of ultrasound\\nwere first recognized in the 1940s as an outgrowth of thesonar technology developed to detect submarines duringWorld War II. The first useful medical images were pro-duced in the early 1950s, and, by 1965, ultrasound quali-ty had improved to the point that it came into generalmedical use. Improvements in the technology, applica-tion, and interpretation of ultrasound continue. Its lowcost, versatility, safety and speed have brought it into thetop drawer of medical imaging techniques.While pelvic ultrasound is widely known and com-\\nmonly used for fetal monitoring during pregnancy ,\\nultrasound is also routinely used for general abdominalimaging. It has great advantage over x-ray imaging tech-nologies in that it does not damage tissues with ionizingradiation. Ultrasound is also generally far better thanplain x rays at distinguishing the subtle variations of softtissue structures, and can be used in any of severalmodes, depending on the need at hand.\\nAs an imaging tool, abdominal ultrasound generally\\nis warranted for patients afflicted with: chronic or acuteabdominal pain ; abdominal trauma; an obvious or sus-\\npected abdominal mass; symptoms of liver disease, pan-creatic disease, gallstones , spleen disease, kidney dis-\\nease and urinary blockage; or symptoms of an abdominalaortic aneurysm . Specifically:\\n• Abdominal pain. Whether acute or chronic, pain can\\nsignal a serious problem—from organ malfunction orinjury to the presence of malignant growths. Ultrasoundscanning can help doctors quickly sort through poten-tial causes when presented with general or ambiguoussymptoms. All of the major abdominal organs can bestudied for signs of disease that appear as changes insize, shape and internal structure.\\n• Abdominal trauma. After a serious accident, such as a\\ncar crash or a fall, internal bleeding from injuredabdominal organs is often the most serious threat tosurvival. Neither the injuries nor the bleeding areimmediately apparent. Ultrasound is very useful as aninitial scan when abdominal trauma is suspected, and itcan be used to pinpoint the location, cause, and severityof hemorrhaging. In the case of puncture wounds ,f r o m\\na bullet for example, ultrasound can locate the foreignobject and provide a preliminary survey of the damage.The easy portability and versatility of ultrasound tech-nology has brought it into common emergency roomuse, and even into limited ambulance service.\\n• Abdominal mass. Abnormal growths—tumors, cysts,\\nabscesses, scar tissue and accessory organs—can beA\\nGALE ENCYCLOPEDIA OF MEDICINE 2 1GEM - 0001 to 0432 - A  10/22/03 1:41 PM  Page 1')]"
      ]
     },
     "execution_count": 3,
     "metadata": {},
     "output_type": "execute_result"
    }
   ],
   "source": [
    "data"
   ]
  },
  {
   "cell_type": "code",
   "execution_count": 4,
   "metadata": {},
   "outputs": [],
   "source": [
    "from langchain.text_splitter import RecursiveCharacterTextSplitter\n",
    "\n",
    "def split_text_into_chunks(documents):\n",
    "    text_splitter = RecursiveCharacterTextSplitter(chunk_size=500, chunk_overlap=50)\n",
    "    text_chunks = text_splitter.split_documents(documents)\n",
    "\n",
    "    return text_chunks\n"
   ]
  },
  {
   "cell_type": "markdown",
   "metadata": {},
   "source": [
    "## Function: `split_text_into_chunks`\n",
    "\n",
    "This function splits the text from documents into smaller, manageable chunks. It's useful for processing large texts in batches.\n",
    "\n",
    "### Parameters:\n",
    "- **`documents`** (list): A list of documents containing text data.\n",
    "\n",
    "### Returns:\n",
    "- **`text_chunks`** (list): A list of text chunks, each with a specified size and overlap.\n",
    "\n",
    "### Example:\n",
    "```python\n",
    "text_chunks = split_text_into_chunks(extracted_data)\n"
   ]
  },
  {
   "cell_type": "code",
   "execution_count": 5,
   "metadata": {},
   "outputs": [
    {
     "name": "stdout",
     "output_type": "stream",
     "text": [
      "length of my chunks is : 10\n"
     ]
    },
    {
     "data": {
      "text/plain": [
       "[Document(metadata={'source': 'data/Medical_book_compressed-15-20-1.pdf', 'page': 0}, page_content='Abdominal aorta ultrasound seeAbdominal\\nultrasound\\nAbdominal aortic aneurysm seeAortic\\naneurysm\\nAbdominal hernia seeHernia\\nAbdominal thrust seeHeimlich maneuver\\nAbdominal ultrasound\\nDefinition\\nUltrasound technology allows doctors to “see”\\ninside a patient without resorting to surgery. A transmit-'),\n",
       " Document(metadata={'source': 'data/Medical_book_compressed-15-20-1.pdf', 'page': 0}, page_content='ter sends high frequency sound waves into the body,where they bounce off the different tissues and organs toproduce a distinctive pattern of echoes. A receiver“hears” the returning echo pattern and forwards it to acomputer, which translates the data into an image on atelevision screen. Because ultrasound can distinguishsubtle variations between soft, fluid-filled tissues, it isparticularly useful in providing diagnostic images of theabdomen. Ultrasound can also be used in treatment.\\nPurpose'),\n",
       " Document(metadata={'source': 'data/Medical_book_compressed-15-20-1.pdf', 'page': 0}, page_content='Purpose\\nThe potential medical applications of ultrasound'),\n",
       " Document(metadata={'source': 'data/Medical_book_compressed-15-20-1.pdf', 'page': 0}, page_content='were first recognized in the 1940s as an outgrowth of thesonar technology developed to detect submarines duringWorld War II. The first useful medical images were pro-duced in the early 1950s, and, by 1965, ultrasound quali-ty had improved to the point that it came into generalmedical use. Improvements in the technology, applica-tion, and interpretation of ultrasound continue. Its lowcost, versatility, safety and speed have brought it into thetop drawer of medical imaging techniques.While pelvic'),\n",
       " Document(metadata={'source': 'data/Medical_book_compressed-15-20-1.pdf', 'page': 0}, page_content='drawer of medical imaging techniques.While pelvic ultrasound is widely known and com-'),\n",
       " Document(metadata={'source': 'data/Medical_book_compressed-15-20-1.pdf', 'page': 0}, page_content='monly used for fetal monitoring during pregnancy ,\\nultrasound is also routinely used for general abdominalimaging. It has great advantage over x-ray imaging tech-nologies in that it does not damage tissues with ionizingradiation. Ultrasound is also generally far better thanplain x rays at distinguishing the subtle variations of softtissue structures, and can be used in any of severalmodes, depending on the need at hand.\\nAs an imaging tool, abdominal ultrasound generally'),\n",
       " Document(metadata={'source': 'data/Medical_book_compressed-15-20-1.pdf', 'page': 0}, page_content='is warranted for patients afflicted with: chronic or acuteabdominal pain ; abdominal trauma; an obvious or sus-\\npected abdominal mass; symptoms of liver disease, pan-creatic disease, gallstones , spleen disease, kidney dis-\\nease and urinary blockage; or symptoms of an abdominalaortic aneurysm . Specifically:\\n• Abdominal pain. Whether acute or chronic, pain can'),\n",
       " Document(metadata={'source': 'data/Medical_book_compressed-15-20-1.pdf', 'page': 0}, page_content='signal a serious problem—from organ malfunction orinjury to the presence of malignant growths. Ultrasoundscanning can help doctors quickly sort through poten-tial causes when presented with general or ambiguoussymptoms. All of the major abdominal organs can bestudied for signs of disease that appear as changes insize, shape and internal structure.\\n• Abdominal trauma. After a serious accident, such as a'),\n",
       " Document(metadata={'source': 'data/Medical_book_compressed-15-20-1.pdf', 'page': 0}, page_content='car crash or a fall, internal bleeding from injuredabdominal organs is often the most serious threat tosurvival. Neither the injuries nor the bleeding areimmediately apparent. Ultrasound is very useful as aninitial scan when abdominal trauma is suspected, and itcan be used to pinpoint the location, cause, and severityof hemorrhaging. In the case of puncture wounds ,f r o m'),\n",
       " Document(metadata={'source': 'data/Medical_book_compressed-15-20-1.pdf', 'page': 0}, page_content='a bullet for example, ultrasound can locate the foreignobject and provide a preliminary survey of the damage.The easy portability and versatility of ultrasound tech-nology has brought it into common emergency roomuse, and even into limited ambulance service.\\n• Abdominal mass. Abnormal growths—tumors, cysts,\\nabscesses, scar tissue and accessory organs—can beA\\nGALE ENCYCLOPEDIA OF MEDICINE 2 1GEM - 0001 to 0432 - A  10/22/03 1:41 PM  Page 1')]"
      ]
     },
     "execution_count": 5,
     "metadata": {},
     "output_type": "execute_result"
    }
   ],
   "source": [
    "chunks = split_text_into_chunks(data)\n",
    "print(\"length of my chunks is :\", len(chunks))\n",
    "chunks"
   ]
  },
  {
   "cell_type": "code",
   "execution_count": 6,
   "metadata": {},
   "outputs": [],
   "source": [
    "from langchain.embeddings import HuggingFaceEmbeddings\n",
    "\n",
    "def fetch_hugging_face_embeddings():\n",
    "    embeddings = HuggingFaceEmbeddings(model_name=\"sentence-transformers/all-MiniLM-L6-v2\",model_kwargs={'device': 'cpu'})\n",
    "    return embeddings"
   ]
  },
  {
   "cell_type": "markdown",
   "metadata": {},
   "source": [
    "## Function: `fetch_hugging_face_embeddings`\n",
    "\n",
    "This function downloads and returns the Hugging Face embeddings model for use in NLP tasks.\n",
    "\n",
    "### Returns:\n",
    "- **`HuggingFaceEmbeddings`**: The embeddings model initialized with 'sentence-transformers/all-MiniLM-L6-v2'.\n",
    "\n",
    "### Example:\n",
    "```python\n",
    "embeddings = fetch_hugging_face_embeddings()\n"
   ]
  },
  {
   "cell_type": "code",
   "execution_count": 7,
   "metadata": {},
   "outputs": [
    {
     "name": "stderr",
     "output_type": "stream",
     "text": [
      "/home/mg/lifeCare/lifebot/lib/python3.10/site-packages/langchain_core/_api/deprecation.py:141: LangChainDeprecationWarning: The class `HuggingFaceEmbeddings` was deprecated in LangChain 0.2.2 and will be removed in 0.3.0. An updated version of the class exists in the langchain-huggingface package and should be used instead. To use it run `pip install -U langchain-huggingface` and import as `from langchain_huggingface import HuggingFaceEmbeddings`.\n",
      "  warn_deprecated(\n",
      "/home/mg/lifeCare/lifebot/lib/python3.10/site-packages/sentence_transformers/cross_encoder/CrossEncoder.py:11: TqdmWarning: IProgress not found. Please update jupyter and ipywidgets. See https://ipywidgets.readthedocs.io/en/stable/user_install.html\n",
      "  from tqdm.autonotebook import tqdm, trange\n",
      "/home/mg/lifeCare/lifebot/lib/python3.10/site-packages/transformers/tokenization_utils_base.py:1601: FutureWarning: `clean_up_tokenization_spaces` was not set. It will be set to `True` by default. This behavior will be depracted in transformers v4.45, and will be then set to `False` by default. For more details check this issue: https://github.com/huggingface/transformers/issues/31884\n",
      "  warnings.warn(\n"
     ]
    }
   ],
   "source": [
    "embeddings = fetch_hugging_face_embeddings()"
   ]
  },
  {
   "cell_type": "code",
   "execution_count": 8,
   "metadata": {},
   "outputs": [
    {
     "data": {
      "text/plain": [
       "HuggingFaceEmbeddings(client=SentenceTransformer(\n",
       "  (0): Transformer({'max_seq_length': 256, 'do_lower_case': False}) with Transformer model: BertModel \n",
       "  (1): Pooling({'word_embedding_dimension': 384, 'pooling_mode_cls_token': False, 'pooling_mode_mean_tokens': True, 'pooling_mode_max_tokens': False, 'pooling_mode_mean_sqrt_len_tokens': False, 'pooling_mode_weightedmean_tokens': False, 'pooling_mode_lasttoken': False, 'include_prompt': True})\n",
       "  (2): Normalize()\n",
       "), model_name='sentence-transformers/all-MiniLM-L6-v2', cache_folder=None, model_kwargs={'device': 'cpu'}, encode_kwargs={}, multi_process=False, show_progress=False)"
      ]
     },
     "execution_count": 8,
     "metadata": {},
     "output_type": "execute_result"
    }
   ],
   "source": [
    "embeddings"
   ]
  },
  {
   "cell_type": "code",
   "execution_count": 9,
   "metadata": {},
   "outputs": [
    {
     "data": {
      "text/plain": [
       "384"
      ]
     },
     "execution_count": 9,
     "metadata": {},
     "output_type": "execute_result"
    }
   ],
   "source": [
    "emb_dimention = embeddings.embed_query(\"This is LifeLine\")\n",
    "len(emb_dimention)"
   ]
  },
  {
   "cell_type": "code",
   "execution_count": 10,
   "metadata": {},
   "outputs": [],
   "source": [
    "from langchain_community.vectorstores import FAISS\n",
    "\n",
    "DB_FAISS_PATH = 'vectstore/db'\n",
    "db = FAISS.from_documents(chunks, embeddings)\n",
    "db.save_local(DB_FAISS_PATH)"
   ]
  },
  {
   "cell_type": "code",
   "execution_count": 11,
   "metadata": {},
   "outputs": [],
   "source": [
    "prompt_template = \"\"\"\n",
    "You are provided with some context and a question. Your task is to use the context to answer the user's question accurately and concisely.\n",
    "\n",
    "Follow these instructions:\n",
    "\n",
    "1. Carefully read the context and identify the key information relevant to the question.\n",
    "2. Summarize the relevant parts of the context in your mind before formulating your answer.\n",
    "3. Ensure your answer is factually accurate based on the provided context.\n",
    "4. If you are unsure about any part of the answer, it's better to say \"I don't know\" than to provide an incorrect answer.\n",
    "5. Keep your answer concise and to the point.\n",
    "\n",
    "Context: {context}\n",
    "Question: {question}\n",
    "\n",
    "Helpful answer:\n",
    "\"\"\"\n"
   ]
  },
  {
   "cell_type": "code",
   "execution_count": 12,
   "metadata": {},
   "outputs": [],
   "source": [
    "from langchain import PromptTemplate\n",
    "PROMPT=PromptTemplate(template=prompt_template, input_variables=[\"context\", \"question\"])\n",
    "chain_type_kwargs={\"prompt\": PROMPT}\n"
   ]
  },
  {
   "cell_type": "code",
   "execution_count": 13,
   "metadata": {},
   "outputs": [],
   "source": [
    "from langchain.llms import CTransformers\n",
    "model =CTransformers(model=\"/home/mg/lifeCare/model/llama-2-7b-chat.ggmlv3.q2_K.bin\",\n",
    "                  model_type=\"llama\",\n",
    "                  config={'max_new_tokens':512,\n",
    "                          'temperature':0.8})"
   ]
  },
  {
   "cell_type": "code",
   "execution_count": 14,
   "metadata": {},
   "outputs": [],
   "source": [
    "from langchain.chains import RetrievalQA\n",
    "\n",
    "qa = RetrievalQA.from_chain_type(llm=model,\n",
    "                                        chain_type='stuff',\n",
    "                                       retriever=db.as_retriever(search_kwargs={'k': 2}),\n",
    "                                       return_source_documents=True,\n",
    "                                       chain_type_kwargs=chain_type_kwargs\n",
    "                                       )\n"
   ]
  },
  {
   "cell_type": "code",
   "execution_count": 15,
   "metadata": {},
   "outputs": [
    {
     "name": "stderr",
     "output_type": "stream",
     "text": [
      "/home/mg/lifeCare/lifebot/lib/python3.10/site-packages/langchain_core/_api/deprecation.py:141: LangChainDeprecationWarning: The method `Chain.__call__` was deprecated in langchain 0.1.0 and will be removed in 0.3.0. Use invoke instead.\n",
      "  warn_deprecated(\n"
     ]
    },
    {
     "name": "stdout",
     "output_type": "stream",
     "text": [
      "Response :  Abdominal refers to the abdominal organs, which include the stomach, small intestine, pancreas, and liver. These organs are located in the abdominal cavity, which is the space between the chest and pelvis. The abdominal organs play important roles in digestion, metabolism, and other bodily functions.\n",
      "\n",
      "In summary, Abdominal refers to the abdominal organs and the abdominal cavity where these organs are located.\n"
     ]
    }
   ],
   "source": [
    "while True:\n",
    "    user_input=input(f\"Input Prompt:\")\n",
    "    result=qa({\"query\": user_input})\n",
    "    print(\"Response : \", result[\"result\"])\n"
   ]
  }
 ],
 "metadata": {
  "kernelspec": {
   "display_name": "lifebot",
   "language": "python",
   "name": "python3"
  },
  "language_info": {
   "codemirror_mode": {
    "name": "ipython",
    "version": 3
   },
   "file_extension": ".py",
   "mimetype": "text/x-python",
   "name": "python",
   "nbconvert_exporter": "python",
   "pygments_lexer": "ipython3",
   "version": "3.10.12"
  }
 },
 "nbformat": 4,
 "nbformat_minor": 2
}
